{
 "cells": [
  {
   "cell_type": "markdown",
   "metadata": {},
   "source": [
    "# Theory\n",
    "<img src=\"https://missinglink.ai/wp-content/uploads/2018/11/Frame-5.png\">"
   ]
  },
  {
   "cell_type": "markdown",
   "metadata": {},
   "source": [
    "### In machine learning, the perceptron is an algorithm for supervised learning of binary classifiers. A binary classifier is a function which can decide whether or not an input, represented by a vector of numbers, belongs to some specific class. It is a type of linear classifier, i.e. a classification algorithm that makes its predictions based on a linear predictor function combining a set of weights with the feature vector. "
   ]
  },
  {
   "cell_type": "markdown",
   "metadata": {},
   "source": [
    "# Practice"
   ]
  },
  {
   "cell_type": "code",
   "execution_count": 3,
   "metadata": {},
   "outputs": [],
   "source": [
    "import numpy as np\n",
    "import matplotlib.pyplot as plt"
   ]
  },
  {
   "cell_type": "code",
   "execution_count": 1,
   "metadata": {},
   "outputs": [],
   "source": [
    "def binary_step(x):\n",
    "    return 1.0 if x > 0.5 else 0.0"
   ]
  },
  {
   "cell_type": "code",
   "execution_count": 4,
   "metadata": {},
   "outputs": [],
   "source": [
    "def sigmoid(x):\n",
    "    return 1 / (1 + np.exp(-x))"
   ]
  },
  {
   "cell_type": "code",
   "execution_count": 5,
   "metadata": {},
   "outputs": [],
   "source": [
    "class Perceptron:\n",
    "    def fit(self, training_inputs, training_outputs, epochs=10000):\n",
    "        self.training_inputs = training_inputs\n",
    "        self.training_outputs = training_outputs\n",
    "        self.epochs = epochs\n",
    "        \n",
    "        np.random.seed(1)\n",
    "        self.synaptic_weights = 2 * np.random.random((self.training_inputs.shape[1],1)) - 1\n",
    "    def predict(self, test_inputs, activate_function=sigmoid):\n",
    "        for i in range(self.epochs):\n",
    "            self.input_layer = self.training_inputs\n",
    "            self.outputs = sigmoid(np.dot(self.input_layer, self.synaptic_weights))\n",
    "\n",
    "            self.err = self.training_outputs - self.outputs\n",
    "            self.adj = np.dot(self.input_layer.T, self.err * (self.outputs * (1 - self.outputs)))\n",
    "\n",
    "            self.synaptic_weights += self.adj\n",
    "        print(np.dot(test_inputs, self.synaptic_weights))\n",
    "        return activate_function(np.dot(test_inputs, self.synaptic_weights))"
   ]
  },
  {
   "cell_type": "code",
   "execution_count": 7,
   "metadata": {},
   "outputs": [],
   "source": [
    "training_inputs = np.array([\n",
    "    [0,0,1],\n",
    "    [1,1,1],\n",
    "    [1,0,1],\n",
    "    [0,1,1]\n",
    "])\n",
    "\n",
    "training_outputs = np.array([[0,1,1,0]]).T"
   ]
  },
  {
   "cell_type": "code",
   "execution_count": 12,
   "metadata": {
    "scrolled": true
   },
   "outputs": [
    {
     "name": "stdout",
     "output_type": "stream",
     "text": [
      "[0.]\n",
      "0.0\n"
     ]
    }
   ],
   "source": [
    "model = Perceptron()\n",
    "model.fit(training_inputs, training_outputs, epochs=20000)\n",
    "new_input = np.array([0,0,0])\n",
    "output = model.predict(new_input, activate_function=binary_step)\n",
    "print(output)"
   ]
  }
 ],
 "metadata": {
  "kernelspec": {
   "display_name": "Python [conda env:root] *",
   "language": "python",
   "name": "conda-root-py"
  },
  "language_info": {
   "codemirror_mode": {
    "name": "ipython",
    "version": 3
   },
   "file_extension": ".py",
   "mimetype": "text/x-python",
   "name": "python",
   "nbconvert_exporter": "python",
   "pygments_lexer": "ipython3",
   "version": "3.8.3"
  }
 },
 "nbformat": 4,
 "nbformat_minor": 4
}
